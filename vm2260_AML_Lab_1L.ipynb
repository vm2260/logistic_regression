{
 "cells": [
  {
   "cell_type": "code",
   "execution_count": 20,
   "metadata": {
    "metadata": {}
   },
   "outputs": [],
   "source": [
    "from sklearn.datasets import load_breast_cancer\n",
    "from sklearn.preprocessing import StandardScaler\n",
    "import matplotlib.pyplot as plt\n",
    "import numpy as np\n",
    "import pandas as pd\n",
    "from sklearn.model_selection import train_test_split\n",
    "from sklearn.metrics import precision_score\n",
    "from sklearn.metrics import recall_score\n",
    "from sklearn.metrics import f1_score\n",
    "from sklearn.metrics import accuracy_score\n",
    "from sklearn.metrics import confusion_matrix\n",
    "import matplotlib.pyplot as plt\n",
    "import numpy as np\n",
    "import warnings\n",
    "\n",
    "## Avoid printing out warnings\n",
    "with warnings.catch_warnings():\n",
    "     warnings.filterwarnings(\"ignore\")\n",
    "     bc = load_breast_cancer()\n",
    "     X, y = bc.data, bc.target"
   ]
  },
  {
   "cell_type": "code",
   "execution_count": 21,
   "metadata": {
    "metadata": {}
   },
   "outputs": [],
   "source": [
    "# Load the dataset\n",
    "bc = load_breast_cancer()\n",
    "X, y = bc.data, bc.target\n"
   ]
  },
  {
   "cell_type": "code",
   "execution_count": 22,
   "metadata": {
    "metadata": {}
   },
   "outputs": [
    {
     "name": "stdout",
     "output_type": "stream",
     "text": [
      "Features: ['mean radius' 'mean texture' 'mean perimeter' 'mean area'\n",
      " 'mean smoothness' 'mean compactness' 'mean concavity'\n",
      " 'mean concave points' 'mean symmetry' 'mean fractal dimension'\n",
      " 'radius error' 'texture error' 'perimeter error' 'area error'\n",
      " 'smoothness error' 'compactness error' 'concavity error'\n",
      " 'concave points error' 'symmetry error' 'fractal dimension error'\n",
      " 'worst radius' 'worst texture' 'worst perimeter' 'worst area'\n",
      " 'worst smoothness' 'worst compactness' 'worst concavity'\n",
      " 'worst concave points' 'worst symmetry' 'worst fractal dimension']\n",
      "Target classes: ['malignant' 'benign']\n",
      "Shape of the dataset: (569, 30)\n"
     ]
    }
   ],
   "source": [
    "# 1. Dataset exploration\n",
    "print(f\"Features: {bc.feature_names}\")\n",
    "print(f\"Target classes: {bc.target_names}\")\n",
    "print(f\"Shape of the dataset: {X.shape}\")"
   ]
  },
  {
   "cell_type": "code",
   "execution_count": 23,
   "metadata": {
    "metadata": {}
   },
   "outputs": [
    {
     "name": "stdout",
     "output_type": "stream",
     "text": [
      "   mean radius  mean texture  mean perimeter  mean area  mean smoothness  \\\n",
      "0        17.99         10.38          122.80     1001.0          0.11840   \n",
      "1        20.57         17.77          132.90     1326.0          0.08474   \n",
      "2        19.69         21.25          130.00     1203.0          0.10960   \n",
      "3        11.42         20.38           77.58      386.1          0.14250   \n",
      "4        20.29         14.34          135.10     1297.0          0.10030   \n",
      "\n",
      "   mean compactness  mean concavity  mean concave points  mean symmetry  \\\n",
      "0           0.27760          0.3001              0.14710         0.2419   \n",
      "1           0.07864          0.0869              0.07017         0.1812   \n",
      "2           0.15990          0.1974              0.12790         0.2069   \n",
      "3           0.28390          0.2414              0.10520         0.2597   \n",
      "4           0.13280          0.1980              0.10430         0.1809   \n",
      "\n",
      "   mean fractal dimension  ...  worst texture  worst perimeter  worst area  \\\n",
      "0                 0.07871  ...          17.33           184.60      2019.0   \n",
      "1                 0.05667  ...          23.41           158.80      1956.0   \n",
      "2                 0.05999  ...          25.53           152.50      1709.0   \n",
      "3                 0.09744  ...          26.50            98.87       567.7   \n",
      "4                 0.05883  ...          16.67           152.20      1575.0   \n",
      "\n",
      "   worst smoothness  worst compactness  worst concavity  worst concave points  \\\n",
      "0            0.1622             0.6656           0.7119                0.2654   \n",
      "1            0.1238             0.1866           0.2416                0.1860   \n",
      "2            0.1444             0.4245           0.4504                0.2430   \n",
      "3            0.2098             0.8663           0.6869                0.2575   \n",
      "4            0.1374             0.2050           0.4000                0.1625   \n",
      "\n",
      "   worst symmetry  worst fractal dimension  target  \n",
      "0          0.4601                  0.11890       0  \n",
      "1          0.2750                  0.08902       0  \n",
      "2          0.3613                  0.08758       0  \n",
      "3          0.6638                  0.17300       0  \n",
      "4          0.2364                  0.07678       0  \n",
      "\n",
      "[5 rows x 31 columns]\n"
     ]
    }
   ],
   "source": [
    "# Convert to DataFrame for easier exploration\n",
    "df = pd.DataFrame(X, columns=bc.feature_names)\n",
    "df['target'] = y\n",
    "print(df.head())  # Display first 5 rows of the dataset"
   ]
  },
  {
   "cell_type": "code",
   "execution_count": 24,
   "metadata": {
    "metadata": {}
   },
   "outputs": [],
   "source": [
    "scaler = StandardScaler()\n",
    "X_scaled = scaler.fit_transform(X)"
   ]
  },
  {
   "cell_type": "code",
   "execution_count": 25,
   "metadata": {
    "metadata": {}
   },
   "outputs": [],
   "source": [
    "X_train, X_test, y_train, y_test = train_test_split(X_scaled, y, test_size=0.2, random_state=42)"
   ]
  },
  {
   "cell_type": "code",
   "execution_count": 26,
   "metadata": {
    "metadata": {}
   },
   "outputs": [],
   "source": [
    "# Splitting data into training and test sets (80/20 split)\n",
    "X_train, X_test, y_train, y_test = train_test_split(X_scaled, y, test_size=0.2, random_state=42)"
   ]
  },
  {
   "cell_type": "code",
   "execution_count": 27,
   "metadata": {
    "metadata": {}
   },
   "outputs": [],
   "source": [
    "def sigmoid(z):\n",
    "    return 1 / (1 + np.exp(-z))\n",
    "\n",
    "# Initialize weights, learning rate, threshold, and iterations\n",
    "weights = np.zeros(X_train.shape[1])\n",
    "learning_rate = 0.5\n",
    "threshold = 0.5\n",
    "iterations = 5000\n",
    "\n",
    "# Log loss function definition\n",
    "def log_loss(y_true, y_pred):\n",
    "    return -np.mean(y_true * np.log(y_pred) + (1 - y_true) * np.log(1 - y_pred))\n"
   ]
  },
  {
   "cell_type": "code",
   "execution_count": 28,
   "metadata": {
    "metadata": {}
   },
   "outputs": [
    {
     "name": "stdout",
     "output_type": "stream",
     "text": [
      "Iteration 0: Log Loss = 0.6931471805599453\n",
      "Iteration 100: Log Loss = 0.0707035066703029\n",
      "Iteration 200: Log Loss = 0.06094179196239977\n",
      "Iteration 300: Log Loss = 0.05639722812097733\n",
      "Iteration 400: Log Loss = 0.05366640748777396\n",
      "Iteration 500: Log Loss = 0.051817705867832\n",
      "Iteration 600: Log Loss = 0.050459489011297314\n",
      "Iteration 700: Log Loss = 0.04939714408767965\n",
      "Iteration 800: Log Loss = 0.048526202405583245\n",
      "Iteration 900: Log Loss = 0.0477868719057437\n",
      "Iteration 1000: Log Loss = 0.0471427830782058\n",
      "Iteration 1100: Log Loss = 0.04657059817753649\n",
      "Iteration 1200: Log Loss = 0.046054643638385656\n",
      "Iteration 1300: Log Loss = 0.04558397292411787\n",
      "Iteration 1400: Log Loss = 0.04515067485998655\n",
      "Iteration 1500: Log Loss = 0.04474885616010229\n",
      "Iteration 1600: Log Loss = 0.04437400654720803\n",
      "Iteration 1700: Log Loss = 0.0440225898506647\n",
      "Iteration 1800: Log Loss = 0.043691773232247856\n",
      "Iteration 1900: Log Loss = 0.04337924339447835\n",
      "Iteration 2000: Log Loss = 0.04308307901814455\n",
      "Iteration 2100: Log Loss = 0.04280166040434393\n",
      "Iteration 2200: Log Loss = 0.04253360425142151\n",
      "Iteration 2300: Log Loss = 0.042277715735256564\n",
      "Iteration 2400: Log Loss = 0.04203295270770926\n",
      "Iteration 2500: Log Loss = 0.04179839851727386\n",
      "Iteration 2600: Log Loss = 0.0415732410559384\n",
      "Iteration 2700: Log Loss = 0.041356756365446654\n",
      "Iteration 2800: Log Loss = 0.041148295627495626\n",
      "Iteration 2900: Log Loss = 0.04094727469833685\n",
      "Iteration 3000: Log Loss = 0.04075316558103714\n",
      "Iteration 3100: Log Loss = 0.04056548939190214\n",
      "Iteration 3200: Log Loss = 0.04038381049335708\n",
      "Iteration 3300: Log Loss = 0.04020773154853656\n",
      "Iteration 3400: Log Loss = 0.040036889312868265\n",
      "Iteration 3500: Log Loss = 0.03987095102176738\n",
      "Iteration 3600: Log Loss = 0.039709611265858646\n",
      "Iteration 3700: Log Loss = 0.03955258926914891\n",
      "Iteration 3800: Log Loss = 0.03939962650357573\n",
      "Iteration 3900: Log Loss = 0.039250484586971966\n",
      "Iteration 4000: Log Loss = 0.03910494342188055\n",
      "Iteration 4100: Log Loss = 0.0389627995406551\n",
      "Iteration 4200: Log Loss = 0.03882386462850248\n",
      "Iteration 4300: Log Loss = 0.03868796420100283\n",
      "Iteration 4400: Log Loss = 0.03855493641650927\n",
      "Iteration 4500: Log Loss = 0.03842463100691604\n",
      "Iteration 4600: Log Loss = 0.038296908312780466\n",
      "Iteration 4700: Log Loss = 0.03817163841081388\n",
      "Iteration 4800: Log Loss = 0.03804870032342443\n",
      "Iteration 4900: Log Loss = 0.037927981301383105\n"
     ]
    }
   ],
   "source": [
    "losses = []\n",
    "\n",
    "for i in range(iterations):\n",
    "    # Predict probabilities\n",
    "    z = np.dot(X_train, weights)\n",
    "    y_pred = sigmoid(z)\n",
    "    \n",
    "    # Compute the gradient and update weights\n",
    "    gradient = np.dot(X_train.T, (y_pred - y_train)) / len(y_train)\n",
    "    weights -= learning_rate * gradient\n",
    "    \n",
    "    # Log the loss every 100 iterations\n",
    "    if i % 100 == 0:\n",
    "        loss = log_loss(y_train, y_pred)\n",
    "        losses.append(loss)\n",
    "        print(f\"Iteration {i}: Log Loss = {loss}\")"
   ]
  },
  {
   "cell_type": "code",
   "execution_count": 29,
   "metadata": {
    "metadata": {}
   },
   "outputs": [
    {
     "name": "stdout",
     "output_type": "stream",
     "text": [
      "Precision: 0.9857142857142858\n",
      "Recall: 0.971830985915493\n",
      "F1 Score: 0.9787234042553191\n",
      "Confusion Matrix:\n",
      "[[42  1]\n",
      " [ 2 69]]\n"
     ]
    }
   ],
   "source": [
    "# Predict on the test set\n",
    "y_pred_test_prob = sigmoid(np.dot(X_test, weights))\n",
    "y_pred_test = (y_pred_test_prob >= threshold).astype(int)\n",
    "\n",
    "# Precision, Recall, F1, Confusion Matrix\n",
    "precision = precision_score(y_test, y_pred_test)\n",
    "recall = recall_score(y_test, y_pred_test)\n",
    "f1 = f1_score(y_test, y_pred_test)\n",
    "conf_matrix = confusion_matrix(y_test, y_pred_test)\n",
    "\n",
    "print(f\"Precision: {precision}\")\n",
    "print(f\"Recall: {recall}\")\n",
    "print(f\"F1 Score: {f1}\")\n",
    "print(f\"Confusion Matrix:\\n{conf_matrix}\")"
   ]
  },
  {
   "cell_type": "code",
   "execution_count": 30,
   "metadata": {
    "metadata": {}
   },
   "outputs": [
    {
     "data": {
      "image/png": "[encoded data removed]",
      "text/plain": [
       "<Figure size 640x480 with 1 Axes>"
      ]
     },
     "metadata": {},
     "output_type": "display_data"
    }
   ],
   "source": [
    "plt.plot(range(0, iterations, 100), losses)\n",
    "plt.xlabel('Iteration')\n",
    "plt.ylabel('Log Loss')\n",
    "plt.title('Log Loss over iterations')\n",
    "plt.show()"
   ]
  },
  {
   "cell_type": "code",
   "execution_count": 31,
   "metadata": {
    "metadata": {}
   },
   "outputs": [
    {
     "name": "stdout",
     "output_type": "stream",
     "text": [
      "Final weights: [-0.10286603  0.08372348  0.06686021 -0.18735666  0.06523462  2.28295767\n",
      " -1.43279513 -2.88225352  1.05023873 -0.53182685 -3.25754747  0.579866\n",
      " -0.5547853  -2.29714399 -0.7980657   0.53335795  1.15563112 -1.10774328\n",
      "  1.31841652  1.49674949 -1.63534385 -2.94695592 -0.41404375 -1.63418242\n",
      " -0.23649271  0.10355553 -2.31455318 -1.44809793 -2.79716918 -0.00725652]\n"
     ]
    }
   ],
   "source": [
    "print(\"Final weights:\", weights)"
   ]
  }
 ],
 "metadata": {
  "kernelspec": {
   "display_name": "jojo",
   "language": "python",
   "name": "python3"
  },
  "language_info": {
   "codemirror_mode": {
    "name": "ipython",
    "version": 3
   },
   "file_extension": ".py",
   "mimetype": "text/x-python",
   "name": "python",
   "nbconvert_exporter": "python",
   "pygments_lexer": "ipython3",
   "version": "3.9.19"
  }
 },
 "nbformat": 4,
 "nbformat_minor": 2
}
